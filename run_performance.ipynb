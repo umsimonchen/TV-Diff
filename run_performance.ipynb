{
 "cells": [
  {
   "cell_type": "code",
   "execution_count": 1,
   "id": "4b84c008-04f3-412b-8b59-368abc9c3ac3",
   "metadata": {},
   "outputs": [],
   "source": [
    "# -*- coding: utf-8 -*-\n",
    "\"\"\"\n",
    "Created on Thu Apr 11 17:39:08 2024\n",
    "\n",
    "@author: user\n",
    "\"\"\"\n",
    "\n",
    "import re\n",
    "import numpy as np\n",
    "\n",
    "with open('performance.txt','r') as fp:\n",
    "    l = fp.readlines()\n",
    "\n",
    "all_data = []\n",
    "\n",
    "for elem in l:\n",
    "    data = []\n",
    "    elem = re.split('{|}', elem)\n",
    "    try:\n",
    "        res = re.split(':|,', elem[1])\n",
    "    except:\n",
    "        continue\n",
    "    for index in [1,3,5,7]:\n",
    "        try:\n",
    "            data.append(float(res[index].strip()))\n",
    "        except:\n",
    "            break\n",
    "    all_data.append(data)\n",
    "    \n",
    "all_data = np.array(all_data)"
   ]
  },
  {
   "cell_type": "code",
   "execution_count": 2,
   "id": "afd9506d-c93d-46cd-a86d-699a4705f6fe",
   "metadata": {},
   "outputs": [
    {
     "data": {
      "text/plain": [
       "array([[0.17177, 0.06083, 0.20948, 0.1639 ],\n",
       "       [0.14163, 0.05016, 0.16846, 0.13137],\n",
       "       [0.12843, 0.04548, 0.15306, 0.11902],\n",
       "       [0.11952, 0.04233, 0.14238, 0.1107 ],\n",
       "       [0.10826, 0.03834, 0.12914, 0.10081],\n",
       "       [0.10171, 0.03602, 0.12148, 0.09488],\n",
       "       [0.09151, 0.03241, 0.11131, 0.08657]])"
      ]
     },
     "execution_count": 2,
     "metadata": {},
     "output_type": "execute_result"
    }
   ],
   "source": [
    "all_data"
   ]
  }
 ],
 "metadata": {
  "kernelspec": {
   "display_name": "Python 3 (ipykernel)",
   "language": "python",
   "name": "python3"
  },
  "language_info": {
   "codemirror_mode": {
    "name": "ipython",
    "version": 3
   },
   "file_extension": ".py",
   "mimetype": "text/x-python",
   "name": "python",
   "nbconvert_exporter": "python",
   "pygments_lexer": "ipython3",
   "version": "3.10.14"
  }
 },
 "nbformat": 4,
 "nbformat_minor": 5
}
